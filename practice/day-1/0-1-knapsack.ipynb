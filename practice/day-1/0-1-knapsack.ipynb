{
 "cells": [
  {
   "cell_type": "code",
   "execution_count": 1,
   "metadata": {},
   "outputs": [],
   "source": [
    "# driver code\n",
    "val = [60, 100, 120]\n",
    "wt = [10, 20, 30]\n",
    "W = 50\n",
    "n = len(val)"
   ]
  },
  {
   "cell_type": "code",
   "execution_count": 9,
   "metadata": {},
   "outputs": [],
   "source": [
    "def dp_recursive(val, wt, W, n):\n",
    "    #base case\n",
    "    if n == 0 or W == 0:\n",
    "        return 0\n",
    "    #skip item\n",
    "    elif wt[n-1] > W:\n",
    "        return dp_recursive(val, wt, W, n-1)\n",
    "    else:\n",
    "        return max(dp_recursive(val, wt, W, n-1), val[n-1] + dp_recursive(val, wt, W-wt[n-1], n-1))"
   ]
  },
  {
   "cell_type": "code",
   "execution_count": 10,
   "metadata": {},
   "outputs": [
    {
     "name": "stdout",
     "output_type": "stream",
     "text": [
      "220\n"
     ]
    }
   ],
   "source": [
    "ans =  dp_recursive(val, wt, W, n)\n",
    "print(ans)"
   ]
  },
  {
   "cell_type": "code",
   "execution_count": null,
   "metadata": {},
   "outputs": [],
   "source": [
    "def dp_memorize(val, wt, W, n, dict_):\n",
    "    if dict_[(val, n)]:\n",
    "        return dict_[(val, n)]\n",
    "    elif n == 0 or W == 0:\n",
    "        dict_[(val, n)] = 0\n",
    "        return dict_[(val, n)]\n",
    "    elif wt[n-1] > W:\n",
    "        dict_[(val, n)] = dp_recursive(val, wt, W, n-1)\n",
    "    else:\n",
    "        dict_[(val, n)] = max(dp_recursive(val, wt, W, n-1), val[n-1] + dp_recursive(val, wt, W-wt[n-1], n-1))"
   ]
  }
 ],
 "metadata": {
  "kernelspec": {
   "display_name": "Python 3.9.7 64-bit",
   "language": "python",
   "name": "python3"
  },
  "language_info": {
   "codemirror_mode": {
    "name": "ipython",
    "version": 3
   },
   "file_extension": ".py",
   "mimetype": "text/x-python",
   "name": "python",
   "nbconvert_exporter": "python",
   "pygments_lexer": "ipython3",
   "version": "3.9.7"
  },
  "orig_nbformat": 4,
  "vscode": {
   "interpreter": {
    "hash": "aee8b7b246df8f9039afb4144a1f6fd8d2ca17a180786b69acc140d282b71a49"
   }
  }
 },
 "nbformat": 4,
 "nbformat_minor": 2
}
