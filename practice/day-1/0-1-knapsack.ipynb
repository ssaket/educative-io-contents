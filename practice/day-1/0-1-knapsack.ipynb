{
 "cells": [
  {
   "cell_type": "code",
   "execution_count": 37,
   "metadata": {},
   "outputs": [],
   "source": [
    "# driver code\n",
    "val = [60, 100, 120]\n",
    "wt = [10, 20, 30]\n",
    "W = 50\n",
    "n = len(val)"
   ]
  },
  {
   "cell_type": "code",
   "execution_count": 38,
   "metadata": {},
   "outputs": [],
   "source": [
    "def dp_recursive(val, wt, W, n):\n",
    "    #base case\n",
    "    if n == 0 or W == 0:\n",
    "        return 0\n",
    "    #skip item\n",
    "    elif wt[n-1] > W:\n",
    "        return dp_recursive(val, wt, W, n-1)\n",
    "    else:\n",
    "        return max(dp_recursive(val, wt, W, n-1), val[n-1] + dp_recursive(val, wt, W-wt[n-1], n-1))"
   ]
  },
  {
   "cell_type": "code",
   "execution_count": 39,
   "metadata": {},
   "outputs": [
    {
     "name": "stdout",
     "output_type": "stream",
     "text": [
      "220\n"
     ]
    }
   ],
   "source": [
    "ans =  dp_recursive(val, wt, W, n)\n",
    "print(ans)"
   ]
  },
  {
   "cell_type": "code",
   "execution_count": 40,
   "metadata": {},
   "outputs": [],
   "source": [
    "def dp_memorize(val, wt, W, n, dict_):\n",
    "    if (W, n) in dict_:\n",
    "        return dict_[(W, n)]\n",
    "    elif n == 0 or W == 0:\n",
    "        return 0\n",
    "    elif wt[n-1] > W:\n",
    "        dict_[(W, n)] = dp_recursive(val, wt, W, n-1)\n",
    "        return dict_[(W, n)]\n",
    "    else:\n",
    "        dict_[(W, n)] = max(dp_recursive(val, wt, W, n-1), val[n-1] + dp_recursive(val, wt, W-wt[n-1], n-1))\n",
    "        return dict_[(W, n)]"
   ]
  },
  {
   "cell_type": "code",
   "execution_count": 41,
   "metadata": {},
   "outputs": [
    {
     "name": "stdout",
     "output_type": "stream",
     "text": [
      "220\n"
     ]
    }
   ],
   "source": [
    "ans =  dp_memorize(val, wt, W, n, dict_={})\n",
    "print(ans)"
   ]
  },
  {
   "cell_type": "code",
   "execution_count": 44,
   "metadata": {},
   "outputs": [],
   "source": [
    "def dp_tabular(val, wt, W, n):\n",
    "    table = [[0 for col in range(W+1)] for row in range(n+1)]\n",
    "    for i in range(n+1):\n",
    "        for w in range(W+1):\n",
    "            if i == 0 or w == 0:\n",
    "                table[i][w] = 0\n",
    "            elif wt[i-1] > W:\n",
    "                table[i][w] = table[i-1][w]\n",
    "            else:\n",
    "                table[i][w] = max(table[i-1][w], val[i-1] + table[i-1][w - wt[i-1]])\n",
    "                \n",
    "    return table[n][W]"
   ]
  },
  {
   "cell_type": "code",
   "execution_count": 45,
   "metadata": {},
   "outputs": [
    {
     "name": "stdout",
     "output_type": "stream",
     "text": [
      "220\n"
     ]
    }
   ],
   "source": [
    "ans =  dp_tabular(val, wt, W, n)\n",
    "print(ans)"
   ]
  }
 ],
 "metadata": {
  "kernelspec": {
   "display_name": "Python 3.9.7 64-bit",
   "language": "python",
   "name": "python3"
  },
  "language_info": {
   "codemirror_mode": {
    "name": "ipython",
    "version": 3
   },
   "file_extension": ".py",
   "mimetype": "text/x-python",
   "name": "python",
   "nbconvert_exporter": "python",
   "pygments_lexer": "ipython3",
   "version": "3.9.7"
  },
  "orig_nbformat": 4,
  "vscode": {
   "interpreter": {
    "hash": "aee8b7b246df8f9039afb4144a1f6fd8d2ca17a180786b69acc140d282b71a49"
   }
  }
 },
 "nbformat": 4,
 "nbformat_minor": 2
}
